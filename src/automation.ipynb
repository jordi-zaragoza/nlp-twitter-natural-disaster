{
 "cells": [
  {
   "cell_type": "code",
   "execution_count": 1,
   "id": "laughing-terminal",
   "metadata": {},
   "outputs": [],
   "source": [
    "from libs.best_performance import *\n",
    "import pandas as pd"
   ]
  },
  {
   "cell_type": "code",
   "execution_count": 2,
   "id": "graphic-yugoslavia",
   "metadata": {},
   "outputs": [],
   "source": [
    "train_df = pd.read_csv(\"../data/train.csv\")\n",
    "test_df = pd.read_csv(\"../data/test.csv\")"
   ]
  },
  {
   "cell_type": "markdown",
   "id": "complimentary-channel",
   "metadata": {},
   "source": [
    "# Find the best model and preprocessing method"
   ]
  },
  {
   "cell_type": "code",
   "execution_count": 14,
   "id": "hairy-insider",
   "metadata": {
    "scrolled": true
   },
   "outputs": [
    {
     "name": "stdout",
     "output_type": "stream",
     "text": [
      "Training model:  ridge\n",
      "Training model:  logistic\n"
     ]
    },
    {
     "data": {
      "text/html": [
       "<div>\n",
       "<style scoped>\n",
       "    .dataframe tbody tr th:only-of-type {\n",
       "        vertical-align: middle;\n",
       "    }\n",
       "\n",
       "    .dataframe tbody tr th {\n",
       "        vertical-align: top;\n",
       "    }\n",
       "\n",
       "    .dataframe thead th {\n",
       "        text-align: right;\n",
       "    }\n",
       "</style>\n",
       "<table border=\"1\" class=\"dataframe\">\n",
       "  <thead>\n",
       "    <tr style=\"text-align: right;\">\n",
       "      <th></th>\n",
       "      <th>f1_mean</th>\n",
       "      <th>f1_std</th>\n",
       "      <th>model_name</th>\n",
       "      <th>mix_texts</th>\n",
       "      <th>clean_texts</th>\n",
       "      <th>vectorization</th>\n",
       "      <th>use_LSA</th>\n",
       "    </tr>\n",
       "  </thead>\n",
       "  <tbody>\n",
       "    <tr>\n",
       "      <th>0</th>\n",
       "      <td>0.645029</td>\n",
       "      <td>0.028668</td>\n",
       "      <td>logistic</td>\n",
       "      <td>False</td>\n",
       "      <td>False</td>\n",
       "      <td>simple</td>\n",
       "      <td>False</td>\n",
       "    </tr>\n",
       "    <tr>\n",
       "      <th>1</th>\n",
       "      <td>0.600088</td>\n",
       "      <td>0.031682</td>\n",
       "      <td>ridge</td>\n",
       "      <td>False</td>\n",
       "      <td>False</td>\n",
       "      <td>simple</td>\n",
       "      <td>False</td>\n",
       "    </tr>\n",
       "  </tbody>\n",
       "</table>\n",
       "</div>"
      ],
      "text/plain": [
       "    f1_mean    f1_std model_name  mix_texts  clean_texts vectorization  \\\n",
       "0  0.645029  0.028668   logistic      False        False        simple   \n",
       "1  0.600088  0.031682      ridge      False        False        simple   \n",
       "\n",
       "   use_LSA  \n",
       "0    False  \n",
       "1    False  "
      ]
     },
     "execution_count": 14,
     "metadata": {},
     "output_type": "execute_result"
    }
   ],
   "source": [
    "params = {\n",
    "        # [\"ridge\", \"logistic\", \"random_forest\", 'gradient_boosting', 'NN', 'gaussian_process', 'Knn', 'ada_boost']\n",
    "        'model_name': [\"ridge\", \"logistic\"],\n",
    "        'mix_texts': [False],     # [True, False]\n",
    "        'clean_texts': [False],   # [True, False]\n",
    "        'vectorization': [\"simple\"],     # [\"simple\", \"tfidf\"]\n",
    "        'use_LSA': [False]        # [True, False]\n",
    "}\n",
    "\n",
    "\n",
    "best_performance(train_df,test_df,params)"
   ]
  },
  {
   "cell_type": "markdown",
   "id": "suited-karen",
   "metadata": {},
   "source": [
    "# Find the best params for the model"
   ]
  },
  {
   "cell_type": "code",
   "execution_count": 5,
   "id": "similar-banking",
   "metadata": {},
   "outputs": [],
   "source": [
    "train_vectors, test_vectors = preprocess(train_df,\n",
    "                                         test_df,\n",
    "                                         params['mix_texts'],\n",
    "                                         params['clean_texts'],\n",
    "                                         params['vectorization'],\n",
    "                                         params['use_LSA'])"
   ]
  },
  {
   "cell_type": "code",
   "execution_count": 6,
   "id": "second-irrigation",
   "metadata": {},
   "outputs": [],
   "source": [
    "X = train_vectors\n",
    "y = train_df[\"target\"]"
   ]
  },
  {
   "cell_type": "code",
   "execution_count": 24,
   "id": "interim-donor",
   "metadata": {
    "scrolled": true
   },
   "outputs": [
    {
     "name": "stdout",
     "output_type": "stream",
     "text": [
      "Fitting 5 folds for each of 50 candidates, totalling 250 fits\n"
     ]
    }
   ],
   "source": [
    "from sklearn.pipeline import Pipeline\n",
    "from sklearn.linear_model import LogisticRegression, RidgeClassifier\n",
    "from sklearn.model_selection import GridSearchCV\n",
    "import numpy as np\n",
    "\n",
    "\n",
    "pipe = Pipeline([('classifier' , RidgeClassifier())])\n",
    "\n",
    "# Create param grid.\n",
    "\n",
    "param_grid = [\n",
    "    {'classifier' : [LogisticRegression()],\n",
    "     'classifier__penalty' : ['l1', 'l2'],\n",
    "    'classifier__C' : np.logspace(-4, 4, 20),\n",
    "    'classifier__solver' : ['liblinear']},\n",
    "    {'classifier' : [RidgeClassifier()],\n",
    "    'classifier__alpha' : [0.1, 0.2, 0.3, 0.4, 0.5, 0.6, 0.7, 0.8, 0.9, 1.0]}\n",
    "]\n",
    "\n",
    "# Create grid search object\n",
    "\n",
    "clf = GridSearchCV(pipe, param_grid = param_grid, cv = 5, verbose=True, n_jobs=-1)\n",
    "\n",
    "# Fit on data\n",
    "\n",
    "best_clf = clf.fit(X, y)"
   ]
  },
  {
   "cell_type": "code",
   "execution_count": 25,
   "id": "chronic-passage",
   "metadata": {},
   "outputs": [
    {
     "name": "stdout",
     "output_type": "stream",
     "text": [
      "Best: 0.645347 using {'classifier': LogisticRegression(C=0.03359818286283781, solver='liblinear'), 'classifier__C': 0.03359818286283781, 'classifier__penalty': 'l2', 'classifier__solver': 'liblinear'}\n"
     ]
    }
   ],
   "source": [
    "# summarize results\n",
    "print(\"Best: %f using %s\" % (best_clf.best_score_, best_clf.best_params_))\n",
    "# means = best_clf.cv_results_['mean_test_score']\n",
    "# stds = best_clf.cv_results_['std_test_score']\n",
    "# params = best_clf.cv_results_['params']\n",
    "# for mean, stdev, param in zip(means, stds, params):\n",
    "#     print(\"%f (%f) with: %r\" % (mean, stdev, param))"
   ]
  },
  {
   "cell_type": "markdown",
   "id": "ideal-rotation",
   "metadata": {},
   "source": [
    "# Apply them"
   ]
  },
  {
   "cell_type": "code",
   "execution_count": 29,
   "id": "friendly-reference",
   "metadata": {},
   "outputs": [
    {
     "name": "stdout",
     "output_type": "stream",
     "text": [
      "   id  target\n",
      "0   0       0\n",
      "1   2       0\n",
      "2   3       0\n",
      "3   9       0\n",
      "4  11       0\n"
     ]
    }
   ],
   "source": [
    "clf = LogisticRegression(C=0.03359818286283781, solver='liblinear', penalty = 'l2')\n",
    "clf.fit(X, y)\n",
    "sample_submission = submission(clf, test_vectors)"
   ]
  },
  {
   "cell_type": "code",
   "execution_count": 32,
   "id": "numerous-opportunity",
   "metadata": {},
   "outputs": [
    {
     "name": "stdout",
     "output_type": "stream",
     "text": [
      "                                                   text  is_disaster\n",
      "1585  Tractor-trailers collide on NJ Turnpike å_ 42 ...         True\n",
      "39    On the #M42 northbound between junctions J3 an...         True\n",
      "2077  The same UN who stood&amp;watched the Serbs ma...         True\n",
      "834   @Loraccee @JoeNBC @msnbc Still gets crushed by...         True\n",
      "350   .@WestmdCountyPA land bank targets first #Latr...         True\n",
      "                                                   text  is_disaster\n",
      "2004  It doesn't get any closer. Heavy rain just bar...        False\n",
      "1365  #IWouldntGetElectedBecause Oh I certainly woul...        False\n",
      "1066  Madhya Pradesh Train Derailment: Village Youth...        False\n",
      "724   That @PPact hasn't already collapsed is a test...        False\n",
      "1230  Not an electric debut for Severino but not a d...        False\n"
     ]
    }
   ],
   "source": [
    "visual_check(test_df.text, sample_submission[\"target\"].astype(bool))"
   ]
  }
 ],
 "metadata": {
  "kernelspec": {
   "display_name": "Python 3 (ipykernel)",
   "language": "python",
   "name": "python3"
  },
  "language_info": {
   "codemirror_mode": {
    "name": "ipython",
    "version": 3
   },
   "file_extension": ".py",
   "mimetype": "text/x-python",
   "name": "python",
   "nbconvert_exporter": "python",
   "pygments_lexer": "ipython3",
   "version": "3.9.5"
  }
 },
 "nbformat": 4,
 "nbformat_minor": 5
}
