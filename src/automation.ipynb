{
 "cells": [
  {
   "cell_type": "code",
   "execution_count": 4,
   "id": "laughing-terminal",
   "metadata": {},
   "outputs": [],
   "source": [
    "from libs.best_performance import *\n",
    "import pandas as pd"
   ]
  },
  {
   "cell_type": "code",
   "execution_count": 5,
   "id": "graphic-yugoslavia",
   "metadata": {},
   "outputs": [],
   "source": [
    "train_df = pd.read_csv(\"../data/train.csv\")\n",
    "test_df = pd.read_csv(\"../data/test.csv\")"
   ]
  },
  {
   "cell_type": "markdown",
   "id": "complimentary-channel",
   "metadata": {},
   "source": [
    "# Find the best model and preprocessing method"
   ]
  },
  {
   "cell_type": "code",
   "execution_count": 6,
   "id": "hairy-insider",
   "metadata": {
    "scrolled": true
   },
   "outputs": [
    {
     "data": {
      "text/html": [
       "<div>\n",
       "<style scoped>\n",
       "    .dataframe tbody tr th:only-of-type {\n",
       "        vertical-align: middle;\n",
       "    }\n",
       "\n",
       "    .dataframe tbody tr th {\n",
       "        vertical-align: top;\n",
       "    }\n",
       "\n",
       "    .dataframe thead th {\n",
       "        text-align: right;\n",
       "    }\n",
       "</style>\n",
       "<table border=\"1\" class=\"dataframe\">\n",
       "  <thead>\n",
       "    <tr style=\"text-align: right;\">\n",
       "      <th></th>\n",
       "      <th>f1_mean</th>\n",
       "      <th>f1_std</th>\n",
       "      <th>model_name</th>\n",
       "      <th>mix_texts</th>\n",
       "      <th>clean_texts</th>\n",
       "      <th>vectorization</th>\n",
       "      <th>use_LSA</th>\n",
       "    </tr>\n",
       "  </thead>\n",
       "  <tbody>\n",
       "    <tr>\n",
       "      <th>0</th>\n",
       "      <td>0.637960</td>\n",
       "      <td>0.034368</td>\n",
       "      <td>logistic</td>\n",
       "      <td>False</td>\n",
       "      <td>True</td>\n",
       "      <td>tfidf</td>\n",
       "      <td>False</td>\n",
       "    </tr>\n",
       "    <tr>\n",
       "      <th>1</th>\n",
       "      <td>0.633308</td>\n",
       "      <td>0.035203</td>\n",
       "      <td>logistic</td>\n",
       "      <td>False</td>\n",
       "      <td>False</td>\n",
       "      <td>tfidf</td>\n",
       "      <td>False</td>\n",
       "    </tr>\n",
       "    <tr>\n",
       "      <th>2</th>\n",
       "      <td>0.556142</td>\n",
       "      <td>0.061329</td>\n",
       "      <td>logistic</td>\n",
       "      <td>False</td>\n",
       "      <td>True</td>\n",
       "      <td>tfidf</td>\n",
       "      <td>True</td>\n",
       "    </tr>\n",
       "    <tr>\n",
       "      <th>3</th>\n",
       "      <td>0.553367</td>\n",
       "      <td>0.067470</td>\n",
       "      <td>logistic</td>\n",
       "      <td>False</td>\n",
       "      <td>False</td>\n",
       "      <td>tfidf</td>\n",
       "      <td>True</td>\n",
       "    </tr>\n",
       "  </tbody>\n",
       "</table>\n",
       "</div>"
      ],
      "text/plain": [
       "    f1_mean    f1_std model_name  mix_texts  clean_texts vectorization  \\\n",
       "0  0.637960  0.034368   logistic      False         True         tfidf   \n",
       "1  0.633308  0.035203   logistic      False        False         tfidf   \n",
       "2  0.556142  0.061329   logistic      False         True         tfidf   \n",
       "3  0.553367  0.067470   logistic      False        False         tfidf   \n",
       "\n",
       "   use_LSA  \n",
       "0    False  \n",
       "1    False  \n",
       "2     True  \n",
       "3     True  "
      ]
     },
     "execution_count": 6,
     "metadata": {},
     "output_type": "execute_result"
    }
   ],
   "source": [
    "params = {\n",
    "        # [\"ridge\", \"logistic\", \"random_forest\", 'gradient_boosting', 'NN', 'gaussian_process', 'Knn', 'ada_boost']\n",
    "        'model_name': ['logistic'],\n",
    "        'mix_texts': [False],     # [True, False]\n",
    "        'clean_texts': [True, False],   # [True, False]\n",
    "        'vectorization': [\"tfidf\"],     # [\"simple\", \"tfidf\"]\n",
    "        'use_LSA': [True, False]        # [True, False]\n",
    "}\n",
    "\n",
    "\n",
    "best_performance(train_df,test_df,params)"
   ]
  },
  {
   "cell_type": "markdown",
   "id": "suited-karen",
   "metadata": {},
   "source": [
    "# Find the best params for the model"
   ]
  },
  {
   "cell_type": "code",
   "execution_count": null,
   "id": "interim-donor",
   "metadata": {},
   "outputs": [],
   "source": [
    "from sklearn.model_selection import GridSearchCV\n",
    "param_grid = [\n",
    "        {\n",
    "            'activation' : ['identity', 'logistic', 'tanh', 'relu'],\n",
    "            'solver' : ['lbfgs', 'sgd', 'adam'],\n",
    "            'hidden_layer_sizes': [\n",
    "             (1,),(2,),(3,),(4,),(5,),(6,),(7,),(8,),(9,),(10,),(11,), (12,),(13,),(14,),(15,),(16,),(17,),(18,),(19,),(20,),(21,)\n",
    "             ]\n",
    "        }\n",
    "       ]\n",
    "\n",
    "clf = GridSearchCV(MLPClassifier(), param_grid, cv=3,\n",
    "                           scoring='accuracy')\n",
    "clf.fit(X,y)\n",
    "\n",
    "\n",
    "print(\"Best parameters set found on development set:\")\n",
    "print(clf.best_params_)"
   ]
  },
  {
   "cell_type": "markdown",
   "id": "ideal-rotation",
   "metadata": {},
   "source": [
    "# Apply them"
   ]
  },
  {
   "cell_type": "code",
   "execution_count": null,
   "id": "friendly-reference",
   "metadata": {},
   "outputs": [],
   "source": [
    "clf = use_model(train_df, \n",
    "                test_df, \n",
    "                mix_texts=False, \n",
    "                clean_texts=True, \n",
    "                vectorization=\"tfidf\", \n",
    "                use_LSA=False)"
   ]
  }
 ],
 "metadata": {
  "kernelspec": {
   "display_name": "Python 3 (ipykernel)",
   "language": "python",
   "name": "python3"
  },
  "language_info": {
   "codemirror_mode": {
    "name": "ipython",
    "version": 3
   },
   "file_extension": ".py",
   "mimetype": "text/x-python",
   "name": "python",
   "nbconvert_exporter": "python",
   "pygments_lexer": "ipython3",
   "version": "3.9.5"
  }
 },
 "nbformat": 4,
 "nbformat_minor": 5
}
