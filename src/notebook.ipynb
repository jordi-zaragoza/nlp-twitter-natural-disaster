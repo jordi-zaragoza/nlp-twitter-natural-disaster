{
 "cells": [
  {
   "cell_type": "code",
   "execution_count": 13,
   "id": "laughing-terminal",
   "metadata": {},
   "outputs": [],
   "source": [
    "from libs.preprocess import *\n",
    "import pandas as pd"
   ]
  },
  {
   "cell_type": "markdown",
   "id": "shaped-sunrise",
   "metadata": {},
   "source": [
    "## Data exploration"
   ]
  },
  {
   "cell_type": "code",
   "execution_count": 14,
   "id": "graphic-yugoslavia",
   "metadata": {},
   "outputs": [],
   "source": [
    "train_df = pd.read_csv(\"../data/train.csv\")\n",
    "test_df = pd.read_csv(\"../data/test.csv\")"
   ]
  },
  {
   "cell_type": "code",
   "execution_count": 15,
   "id": "surprised-spouse",
   "metadata": {},
   "outputs": [
    {
     "data": {
      "text/plain": [
       "'Forest fire near La Ronge Sask. Canada'"
      ]
     },
     "execution_count": 15,
     "metadata": {},
     "output_type": "execute_result"
    }
   ],
   "source": [
    "train_df[train_df.target == 1].text.values[1]"
   ]
  },
  {
   "cell_type": "code",
   "execution_count": 16,
   "id": "lasting-wheat",
   "metadata": {},
   "outputs": [
    {
     "data": {
      "text/plain": [
       "'I love fruits'"
      ]
     },
     "execution_count": 16,
     "metadata": {},
     "output_type": "execute_result"
    }
   ],
   "source": [
    "train_df[train_df.target == 0].text.values[1]"
   ]
  },
  {
   "cell_type": "code",
   "execution_count": 17,
   "id": "cathedral-kennedy",
   "metadata": {},
   "outputs": [],
   "source": [
    "train_df['text'] = train_df.apply(lambda x: mix_all_text(x) ,axis=1)\n",
    "test_df['text'] = test_df.apply(lambda x: mix_all_text(x) ,axis=1)"
   ]
  },
  {
   "cell_type": "code",
   "execution_count": 18,
   "id": "equivalent-leisure",
   "metadata": {},
   "outputs": [
    {
     "data": {
      "text/html": [
       "<div>\n",
       "<style scoped>\n",
       "    .dataframe tbody tr th:only-of-type {\n",
       "        vertical-align: middle;\n",
       "    }\n",
       "\n",
       "    .dataframe tbody tr th {\n",
       "        vertical-align: top;\n",
       "    }\n",
       "\n",
       "    .dataframe thead th {\n",
       "        text-align: right;\n",
       "    }\n",
       "</style>\n",
       "<table border=\"1\" class=\"dataframe\">\n",
       "  <thead>\n",
       "    <tr style=\"text-align: right;\">\n",
       "      <th></th>\n",
       "      <th>text</th>\n",
       "    </tr>\n",
       "  </thead>\n",
       "  <tbody>\n",
       "    <tr>\n",
       "      <th>4010</th>\n",
       "      <td>May Allah help all those suffering from the #P...</td>\n",
       "    </tr>\n",
       "    <tr>\n",
       "      <th>137</th>\n",
       "      <td>airplane%20accident Pennsylvania Strict liabil...</td>\n",
       "    </tr>\n",
       "    <tr>\n",
       "      <th>4512</th>\n",
       "      <td>The hurricane mixxtail kinda tastes like the w...</td>\n",
       "    </tr>\n",
       "    <tr>\n",
       "      <th>6641</th>\n",
       "      <td>terrorist Sanganer, Rajasthan @rahulkanwal why...</td>\n",
       "    </tr>\n",
       "    <tr>\n",
       "      <th>2763</th>\n",
       "      <td>devastation Las Vegas, Nevada We haven't seen ...</td>\n",
       "    </tr>\n",
       "    <tr>\n",
       "      <th>3435</th>\n",
       "      <td>Chick masturbates a guy until she gets explode...</td>\n",
       "    </tr>\n",
       "    <tr>\n",
       "      <th>6250</th>\n",
       "      <td>snowstorm Neath, South Wales #NowPlaying Last ...</td>\n",
       "    </tr>\n",
       "    <tr>\n",
       "      <th>2981</th>\n",
       "      <td>drowning New York The Drowning Girl by Caitlin...</td>\n",
       "    </tr>\n",
       "    <tr>\n",
       "      <th>1980</th>\n",
       "      <td>#Rohingya houses in #Kyee NockThie hamlet from...</td>\n",
       "    </tr>\n",
       "    <tr>\n",
       "      <th>2234</th>\n",
       "      <td>deluge Fort Fizz, Ohio Vince McMahon once agai...</td>\n",
       "    </tr>\n",
       "  </tbody>\n",
       "</table>\n",
       "</div>"
      ],
      "text/plain": [
       "                                                   text\n",
       "4010  May Allah help all those suffering from the #P...\n",
       "137   airplane%20accident Pennsylvania Strict liabil...\n",
       "4512  The hurricane mixxtail kinda tastes like the w...\n",
       "6641  terrorist Sanganer, Rajasthan @rahulkanwal why...\n",
       "2763  devastation Las Vegas, Nevada We haven't seen ...\n",
       "3435  Chick masturbates a guy until she gets explode...\n",
       "6250  snowstorm Neath, South Wales #NowPlaying Last ...\n",
       "2981  drowning New York The Drowning Girl by Caitlin...\n",
       "1980  #Rohingya houses in #Kyee NockThie hamlet from...\n",
       "2234  deluge Fort Fizz, Ohio Vince McMahon once agai..."
      ]
     },
     "execution_count": 18,
     "metadata": {},
     "output_type": "execute_result"
    }
   ],
   "source": [
    "train_df[['text']].sample(10)"
   ]
  },
  {
   "cell_type": "markdown",
   "id": "handled-strength",
   "metadata": {},
   "source": [
    "## Data cleaning"
   ]
  },
  {
   "cell_type": "code",
   "execution_count": 19,
   "id": "hired-tooth",
   "metadata": {},
   "outputs": [],
   "source": [
    "train_df.text = cleaning_function(train_df.text)\n",
    "test_df.text = cleaning_function(test_df.text)"
   ]
  },
  {
   "cell_type": "code",
   "execution_count": 20,
   "id": "immune-progress",
   "metadata": {},
   "outputs": [
    {
     "data": {
      "text/html": [
       "<div>\n",
       "<style scoped>\n",
       "    .dataframe tbody tr th:only-of-type {\n",
       "        vertical-align: middle;\n",
       "    }\n",
       "\n",
       "    .dataframe tbody tr th {\n",
       "        vertical-align: top;\n",
       "    }\n",
       "\n",
       "    .dataframe thead th {\n",
       "        text-align: right;\n",
       "    }\n",
       "</style>\n",
       "<table border=\"1\" class=\"dataframe\">\n",
       "  <thead>\n",
       "    <tr style=\"text-align: right;\">\n",
       "      <th></th>\n",
       "      <th>text</th>\n",
       "    </tr>\n",
       "  </thead>\n",
       "  <tbody>\n",
       "    <tr>\n",
       "      <th>233</th>\n",
       "      <td>annihilated pa officially skipping out on fant...</td>\n",
       "    </tr>\n",
       "    <tr>\n",
       "      <th>1128</th>\n",
       "      <td>bombed warwick ri dollarocracy also storm in r...</td>\n",
       "    </tr>\n",
       "    <tr>\n",
       "      <th>2759</th>\n",
       "      <td>devastation contactsimplenewsgmailcom  years a...</td>\n",
       "    </tr>\n",
       "    <tr>\n",
       "      <th>622</th>\n",
       "      <td>bioterrorism hudson valley ny volunteers neede...</td>\n",
       "    </tr>\n",
       "    <tr>\n",
       "      <th>433</th>\n",
       "      <td>localarsonist lmfao</td>\n",
       "    </tr>\n",
       "    <tr>\n",
       "      <th>5460</th>\n",
       "      <td>police toronto  options to fix your facebook c...</td>\n",
       "    </tr>\n",
       "    <tr>\n",
       "      <th>5117</th>\n",
       "      <td>finnish nuclear plant to move ahead after fina...</td>\n",
       "    </tr>\n",
       "    <tr>\n",
       "      <th>4209</th>\n",
       "      <td>hazard uk our tipster previews chelsea v swans...</td>\n",
       "    </tr>\n",
       "    <tr>\n",
       "      <th>2912</th>\n",
       "      <td>i am that girl on tv that sadly turns her musi...</td>\n",
       "    </tr>\n",
       "    <tr>\n",
       "      <th>2750</th>\n",
       "      <td>devastation uk obsolete devastation from broad...</td>\n",
       "    </tr>\n",
       "  </tbody>\n",
       "</table>\n",
       "</div>"
      ],
      "text/plain": [
       "                                                   text\n",
       "233   annihilated pa officially skipping out on fant...\n",
       "1128  bombed warwick ri dollarocracy also storm in r...\n",
       "2759  devastation contactsimplenewsgmailcom  years a...\n",
       "622   bioterrorism hudson valley ny volunteers neede...\n",
       "433                                 localarsonist lmfao\n",
       "5460  police toronto  options to fix your facebook c...\n",
       "5117  finnish nuclear plant to move ahead after fina...\n",
       "4209  hazard uk our tipster previews chelsea v swans...\n",
       "2912  i am that girl on tv that sadly turns her musi...\n",
       "2750  devastation uk obsolete devastation from broad..."
      ]
     },
     "execution_count": 20,
     "metadata": {},
     "output_type": "execute_result"
    }
   ],
   "source": [
    "train_df[['text']].sample(10)"
   ]
  },
  {
   "cell_type": "markdown",
   "id": "appropriate-outreach",
   "metadata": {},
   "source": [
    "## Vectorize"
   ]
  },
  {
   "cell_type": "markdown",
   "id": "electrical-advance",
   "metadata": {},
   "source": [
    "### Using a simple count vextorizer"
   ]
  },
  {
   "cell_type": "code",
   "execution_count": 21,
   "id": "forced-times",
   "metadata": {},
   "outputs": [],
   "source": [
    "count_vectorizer = feature_extraction.text.CountVectorizer()\n",
    "\n",
    "## let's get counts for the first 5 tweets in the data\n",
    "example_train_vectors = count_vectorizer.fit_transform(train_df[\"text\"][0:5])"
   ]
  },
  {
   "cell_type": "code",
   "execution_count": 22,
   "id": "acquired-deficit",
   "metadata": {},
   "outputs": [
    {
     "name": "stdout",
     "output_type": "stream",
     "text": [
      "(1, 52)\n",
      "[[0 1 1 1 0 0 0 0 0 0 1 1 0 0 0 0 1 0 0 0 0 0 0 1 0 0 0 1 0 0 0 0 1 0 0 0\n",
      "  0 1 0 0 0 0 0 0 0 0 0 1 1 0 1 0]]\n"
     ]
    }
   ],
   "source": [
    "## we use .todense() here because these vectors are \"sparse\" (only non-zero elements are kept to save space)\n",
    "print(example_train_vectors[0].todense().shape)\n",
    "print(example_train_vectors[0].todense())"
   ]
  },
  {
   "cell_type": "code",
   "execution_count": 23,
   "id": "matched-karaoke",
   "metadata": {},
   "outputs": [],
   "source": [
    "train_vectors = count_vectorizer.fit_transform(train_df[\"text\"])\n",
    "test_vectors = count_vectorizer.transform(test_df[\"text\"])"
   ]
  },
  {
   "cell_type": "markdown",
   "id": "english-cooking",
   "metadata": {},
   "source": [
    "### Using Tf-idf (Term frequency - Inverse document frequency)"
   ]
  },
  {
   "cell_type": "code",
   "execution_count": 24,
   "id": "arabic-brooks",
   "metadata": {},
   "outputs": [],
   "source": [
    "count_vectorizer = feature_extraction.text.TfidfVectorizer()\n",
    "example_train_vectors = count_vectorizer.fit_transform(train_df[\"text\"][0:5])"
   ]
  },
  {
   "cell_type": "code",
   "execution_count": 25,
   "id": "perfect-sleep",
   "metadata": {},
   "outputs": [
    {
     "name": "stdout",
     "output_type": "stream",
     "text": [
      "(1, 52)\n",
      "[[0.         0.23336118 0.28924517 0.23336118 0.         0.\n",
      "  0.         0.         0.         0.         0.28924517 0.28924517\n",
      "  0.         0.         0.         0.         0.28924517 0.\n",
      "  0.         0.         0.         0.         0.         0.28924517\n",
      "  0.         0.         0.         0.28924517 0.         0.\n",
      "  0.         0.         0.28924517 0.         0.         0.\n",
      "  0.         0.28924517 0.         0.         0.         0.\n",
      "  0.         0.         0.         0.         0.         0.28924517\n",
      "  0.23336118 0.         0.28924517 0.        ]]\n"
     ]
    }
   ],
   "source": [
    "print(example_train_vectors[0].todense().shape)\n",
    "print(example_train_vectors[0].todense())"
   ]
  },
  {
   "cell_type": "code",
   "execution_count": 26,
   "id": "religious-acceptance",
   "metadata": {},
   "outputs": [],
   "source": [
    "train_vectors = count_vectorizer.fit_transform(train_df[\"text\"])\n",
    "test_vectors = count_vectorizer.transform(test_df[\"text\"])"
   ]
  },
  {
   "cell_type": "markdown",
   "id": "anonymous-stone",
   "metadata": {},
   "source": [
    "## LSA (Latent Semantic Analysis)"
   ]
  },
  {
   "cell_type": "code",
   "execution_count": 27,
   "id": "designing-alliance",
   "metadata": {},
   "outputs": [],
   "source": [
    "svd = decomposition.TruncatedSVD(n_components=30, n_iter=20, random_state=42)\n",
    "train_matrix = svd.fit_transform(train_vectors)\n",
    "test_matrix = svd.transform(test_vectors)"
   ]
  },
  {
   "cell_type": "markdown",
   "id": "danish-failure",
   "metadata": {},
   "source": [
    "## Model"
   ]
  },
  {
   "cell_type": "code",
   "execution_count": 69,
   "id": "going-arizona",
   "metadata": {},
   "outputs": [],
   "source": [
    "## Our vectors are really big, so we want to push our model's weights\n",
    "## toward 0 without completely discounting different words - ridge regression \n",
    "## is a good way to do this.\n",
    "from sklearn import linear_model\n",
    "clf = linear_model.RidgeClassifier()"
   ]
  },
  {
   "cell_type": "code",
   "execution_count": 70,
   "id": "numerical-station",
   "metadata": {},
   "outputs": [
    {
     "name": "stdout",
     "output_type": "stream",
     "text": [
      "Scores: 0.60326889879472 0.05383427566871838\n"
     ]
    }
   ],
   "source": [
    "scores = model_selection.cross_val_score(clf, train_matrix, train_df[\"target\"], scoring=\"f1\", cv=3)\n",
    "print(\"Scores:\", scores.mean(),scores.std())"
   ]
  },
  {
   "cell_type": "code",
   "execution_count": 71,
   "id": "color-official",
   "metadata": {},
   "outputs": [
    {
     "data": {
      "text/plain": [
       "RidgeClassifier()"
      ]
     },
     "execution_count": 71,
     "metadata": {},
     "output_type": "execute_result"
    }
   ],
   "source": [
    "clf.fit(train_matrix, train_df[\"target\"])"
   ]
  },
  {
   "cell_type": "markdown",
   "id": "human-citizenship",
   "metadata": {},
   "source": [
    "## Submission"
   ]
  },
  {
   "cell_type": "code",
   "execution_count": 41,
   "id": "usual-script",
   "metadata": {},
   "outputs": [],
   "source": [
    "sample_submission = pd.read_csv(\"../data/sample_submission.csv\")\n",
    "sample_submission[\"target\"] = clf.predict(test_matrix)"
   ]
  },
  {
   "cell_type": "code",
   "execution_count": 42,
   "id": "compatible-joining",
   "metadata": {},
   "outputs": [
    {
     "data": {
      "text/html": [
       "<div>\n",
       "<style scoped>\n",
       "    .dataframe tbody tr th:only-of-type {\n",
       "        vertical-align: middle;\n",
       "    }\n",
       "\n",
       "    .dataframe tbody tr th {\n",
       "        vertical-align: top;\n",
       "    }\n",
       "\n",
       "    .dataframe thead th {\n",
       "        text-align: right;\n",
       "    }\n",
       "</style>\n",
       "<table border=\"1\" class=\"dataframe\">\n",
       "  <thead>\n",
       "    <tr style=\"text-align: right;\">\n",
       "      <th></th>\n",
       "      <th>id</th>\n",
       "      <th>target</th>\n",
       "    </tr>\n",
       "  </thead>\n",
       "  <tbody>\n",
       "    <tr>\n",
       "      <th>0</th>\n",
       "      <td>0</td>\n",
       "      <td>0</td>\n",
       "    </tr>\n",
       "    <tr>\n",
       "      <th>1</th>\n",
       "      <td>2</td>\n",
       "      <td>0</td>\n",
       "    </tr>\n",
       "    <tr>\n",
       "      <th>2</th>\n",
       "      <td>3</td>\n",
       "      <td>0</td>\n",
       "    </tr>\n",
       "    <tr>\n",
       "      <th>3</th>\n",
       "      <td>9</td>\n",
       "      <td>0</td>\n",
       "    </tr>\n",
       "    <tr>\n",
       "      <th>4</th>\n",
       "      <td>11</td>\n",
       "      <td>1</td>\n",
       "    </tr>\n",
       "  </tbody>\n",
       "</table>\n",
       "</div>"
      ],
      "text/plain": [
       "   id  target\n",
       "0   0       0\n",
       "1   2       0\n",
       "2   3       0\n",
       "3   9       0\n",
       "4  11       1"
      ]
     },
     "execution_count": 42,
     "metadata": {},
     "output_type": "execute_result"
    }
   ],
   "source": [
    "sample_submission.head()"
   ]
  },
  {
   "cell_type": "code",
   "execution_count": 43,
   "id": "approved-fellowship",
   "metadata": {},
   "outputs": [],
   "source": [
    "sample_submission.to_csv(\"../data/submission.csv\", index=False)"
   ]
  },
  {
   "cell_type": "markdown",
   "id": "intelligent-singapore",
   "metadata": {},
   "source": [
    "## Visual check"
   ]
  },
  {
   "cell_type": "code",
   "execution_count": 44,
   "id": "looking-nightlife",
   "metadata": {},
   "outputs": [],
   "source": [
    "df_check = pd.DataFrame({'text':test_df['text'] , 'is_disaster': sample_submission[\"target\"].astype(bool)}) "
   ]
  },
  {
   "cell_type": "code",
   "execution_count": 45,
   "id": "serious-producer",
   "metadata": {},
   "outputs": [
    {
     "data": {
      "text/html": [
       "<div>\n",
       "<style scoped>\n",
       "    .dataframe tbody tr th:only-of-type {\n",
       "        vertical-align: middle;\n",
       "    }\n",
       "\n",
       "    .dataframe tbody tr th {\n",
       "        vertical-align: top;\n",
       "    }\n",
       "\n",
       "    .dataframe thead th {\n",
       "        text-align: right;\n",
       "    }\n",
       "</style>\n",
       "<table border=\"1\" class=\"dataframe\">\n",
       "  <thead>\n",
       "    <tr style=\"text-align: right;\">\n",
       "      <th></th>\n",
       "      <th>text</th>\n",
       "      <th>is_disaster</th>\n",
       "    </tr>\n",
       "  </thead>\n",
       "  <tbody>\n",
       "    <tr>\n",
       "      <th>2442</th>\n",
       "      <td>fears over missing migrants in med rescuers se...</td>\n",
       "      <td>True</td>\n",
       "    </tr>\n",
       "    <tr>\n",
       "      <th>544</th>\n",
       "      <td>buildingsonfire arsehole squad blainescronuts ...</td>\n",
       "      <td>True</td>\n",
       "    </tr>\n",
       "    <tr>\n",
       "      <th>1575</th>\n",
       "      <td>fire san jose state university joseph fire</td>\n",
       "      <td>True</td>\n",
       "    </tr>\n",
       "    <tr>\n",
       "      <th>1917</th>\n",
       "      <td>injured nj  az loganmeadows christianstec hes ...</td>\n",
       "      <td>True</td>\n",
       "    </tr>\n",
       "    <tr>\n",
       "      <th>1873</th>\n",
       "      <td>hostage visit our dedicated website  is egypt ...</td>\n",
       "      <td>True</td>\n",
       "    </tr>\n",
       "  </tbody>\n",
       "</table>\n",
       "</div>"
      ],
      "text/plain": [
       "                                                   text  is_disaster\n",
       "2442  fears over missing migrants in med rescuers se...         True\n",
       "544   buildingsonfire arsehole squad blainescronuts ...         True\n",
       "1575         fire san jose state university joseph fire         True\n",
       "1917  injured nj  az loganmeadows christianstec hes ...         True\n",
       "1873  hostage visit our dedicated website  is egypt ...         True"
      ]
     },
     "execution_count": 45,
     "metadata": {},
     "output_type": "execute_result"
    }
   ],
   "source": [
    "df_check[df_check.is_disaster == True].sample(5)"
   ]
  },
  {
   "cell_type": "code",
   "execution_count": 46,
   "id": "selected-malta",
   "metadata": {},
   "outputs": [
    {
     "data": {
      "text/html": [
       "<div>\n",
       "<style scoped>\n",
       "    .dataframe tbody tr th:only-of-type {\n",
       "        vertical-align: middle;\n",
       "    }\n",
       "\n",
       "    .dataframe tbody tr th {\n",
       "        vertical-align: top;\n",
       "    }\n",
       "\n",
       "    .dataframe thead th {\n",
       "        text-align: right;\n",
       "    }\n",
       "</style>\n",
       "<table border=\"1\" class=\"dataframe\">\n",
       "  <thead>\n",
       "    <tr style=\"text-align: right;\">\n",
       "      <th></th>\n",
       "      <th>text</th>\n",
       "      <th>is_disaster</th>\n",
       "    </tr>\n",
       "  </thead>\n",
       "  <tbody>\n",
       "    <tr>\n",
       "      <th>1295</th>\n",
       "      <td>drowning morioh japan tinyjecht those eyes des...</td>\n",
       "      <td>False</td>\n",
       "    </tr>\n",
       "    <tr>\n",
       "      <th>3027</th>\n",
       "      <td>talplays twitchbang maliceqt zelse rhyareegami...</td>\n",
       "      <td>False</td>\n",
       "    </tr>\n",
       "    <tr>\n",
       "      <th>1425</th>\n",
       "      <td>live on periscope wild wing epicentre https tc...</td>\n",
       "      <td>False</td>\n",
       "    </tr>\n",
       "    <tr>\n",
       "      <th>983</th>\n",
       "      <td>the horror community is deluged with cruddy os...</td>\n",
       "      <td>False</td>\n",
       "    </tr>\n",
       "    <tr>\n",
       "      <th>2987</th>\n",
       "      <td>watching casino royale shes clearly traumatise...</td>\n",
       "      <td>False</td>\n",
       "    </tr>\n",
       "  </tbody>\n",
       "</table>\n",
       "</div>"
      ],
      "text/plain": [
       "                                                   text  is_disaster\n",
       "1295  drowning morioh japan tinyjecht those eyes des...        False\n",
       "3027  talplays twitchbang maliceqt zelse rhyareegami...        False\n",
       "1425  live on periscope wild wing epicentre https tc...        False\n",
       "983   the horror community is deluged with cruddy os...        False\n",
       "2987  watching casino royale shes clearly traumatise...        False"
      ]
     },
     "execution_count": 46,
     "metadata": {},
     "output_type": "execute_result"
    }
   ],
   "source": [
    "df_check[df_check.is_disaster == False].sample(5)"
   ]
  }
 ],
 "metadata": {
  "kernelspec": {
   "display_name": "Python 3 (ipykernel)",
   "language": "python",
   "name": "python3"
  },
  "language_info": {
   "codemirror_mode": {
    "name": "ipython",
    "version": 3
   },
   "file_extension": ".py",
   "mimetype": "text/x-python",
   "name": "python",
   "nbconvert_exporter": "python",
   "pygments_lexer": "ipython3",
   "version": "3.9.5"
  }
 },
 "nbformat": 4,
 "nbformat_minor": 5
}
